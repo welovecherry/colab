{
  "nbformat": 4,
  "nbformat_minor": 0,
  "metadata": {
    "colab": {
      "provenance": [],
      "authorship_tag": "ABX9TyOgc8bjuJy1ggCCxU2hvQHL",
      "include_colab_link": true
    },
    "kernelspec": {
      "name": "python3",
      "display_name": "Python 3"
    },
    "language_info": {
      "name": "python"
    }
  },
  "cells": [
    {
      "cell_type": "markdown",
      "metadata": {
        "id": "view-in-github",
        "colab_type": "text"
      },
      "source": [
        "<a href=\"https://colab.research.google.com/github/welovecherry/colab/blob/main/Numpy_study_week1.ipynb\" target=\"_parent\"><img src=\"https://colab.research.google.com/assets/colab-badge.svg\" alt=\"Open In Colab\"/></a>"
      ]
    },
    {
      "cell_type": "code",
      "execution_count": 53,
      "metadata": {
        "id": "0eLNnu-iAOCR",
        "colab": {
          "base_uri": "https://localhost:8080/"
        },
        "outputId": "7872415f-2a50-4c74-fdd5-3a219aa192ed"
      },
      "outputs": [
        {
          "output_type": "stream",
          "name": "stdout",
          "text": [
            "[[100 200 300]\n",
            " [400 500 600]\n",
            " [700 800 900]]\n",
            "[[1 4 7]\n",
            " [2 5 8]\n",
            " [3 6 9]]\n",
            "[[1 2 3]\n",
            " [4 5 6]\n",
            " [7 8 9]]\n"
          ]
        }
      ],
      "source": [
        "# 넘파이는 한줄로 모든 요소에 10 더하기 가능\n",
        "\n",
        "import numpy as np\n",
        "\n",
        "arr = np.array([1, 2, 3, 4, 5])\n",
        "arr_added = arr + 10\n",
        "# print(arr_added)\n",
        "\n",
        "\n",
        "# 넘파이는 자동 메모리 관리해줌.\n",
        "# 씨언어는 2차원배열 만들 때 [3][3]처럼 크기를 명확히 해야하지만\n",
        "# 넘파이는 이런걸 쓸 필요 없다.\n",
        "\n",
        "matrix = np.array( [\n",
        "    [1, 2, 3],\n",
        "    [4, 5, 6],\n",
        "    [7, 8, 9]\n",
        "])\n",
        "\n",
        "print(matrix * 100)\n",
        "print(matrix.T)\n",
        "print(matrix) # original\n",
        "\n",
        "# 넘파이: average, std(표준편차), sum 바로 사용가능\n",
        "# print(np.mean(arr))\n",
        "# print(np.std(arr))\n",
        "# print(np.sum(arr))\n"
      ]
    },
    {
      "cell_type": "code",
      "source": [],
      "metadata": {
        "id": "_Ecy4RikThK_"
      },
      "execution_count": null,
      "outputs": []
    },
    {
      "cell_type": "code",
      "source": [
        "# 차원을 표현할 때 [] 를 쓴다. 만일 2차원 배열을 만들면 []를 2번 씀\n",
        "# 2차원 배열 (행렬)\n",
        "matrix = np.array([\n",
        "    [1, 2, 3],    # 첫 번째 행\n",
        "    [4, 5, 6],    # 두 번째 행\n",
        "    [7, 8, 9]     # 세 번째 행\n",
        "])\n",
        "# 각 []는 차원을 나타냄\n",
        "# 1번 []는 전체 행렬\n",
        "# 2번 []는 각 행\n",
        "\n",
        "# 3차원 배열 (텐서)\n",
        "tensor = np.array([\n",
        "    [[1, 2], [3, 4]],    # 첫 번째 2D 배열\n",
        "    [[5, 6], [7, 8]]     # 두 번째 2D 배열\n",
        "])\n",
        "# 1번 []는 전체 텐서\n",
        "# 2번 []는 각 2D 배열\n",
        "# 3번 []는 각 2D 배열 내 행"
      ],
      "metadata": {
        "id": "n3pmKwqMSMLC"
      },
      "execution_count": null,
      "outputs": []
    },
    {
      "cell_type": "code",
      "source": [
        "matrix = np.array( [\n",
        "    [1, 2, 3],\n",
        "    [4, 5, 6],\n",
        "    [7, 8, 9]\n",
        "])\n",
        "\n",
        "# print(matrix[1, 2]) # 1행 2열 (idex starts from 0)\n",
        "\n",
        "# 넘파이는 슬라이싱 사용 가능 (슬라이싱이 복사가 아니라 참조되므로 원본 배열이 변경될 수 있다.)\n",
        "# print(matrix[:2])\n",
        "\n",
        "\n",
        "arr = np.array([0, 1, 2, 3, 4, 5, 6, 7, 8, 9])\n",
        "# print(arr[2:5])\n",
        "# print(arr[:4])\n",
        "print(arr[5:])\n",
        "# print(arr[:])\n",
        "\n",
        "# print(arr[1:8:2])  # 인덱스 1부터 7까지 2칸씩 건너뛰기\n",
        "# print(arr[::-1])   # 배열을 거꾸로 뒤집기\n",
        "# print(arr[::3])    # 처음부터 끝까지 3칸씩 건너뛰기\n",
        "\n",
        "# 2차원 배열에서도 넘파이 슬라이싱 사용 가능\n",
        "arr2d = np.array([\n",
        "    [0,1,2,3],\n",
        "    [4,5,6,7],\n",
        "    [8,9,10,11]\n",
        "])\n",
        "\n",
        "# 넘파이는 조건을 활용한 슬라이싱(필터링) 가능\n",
        "# print(arr[arr > 4])\n",
        "\n",
        "\n",
        "# (슬라이싱이 복사가 아니라 참조되므로 원본 배열이 변경될 수 있다.)\n",
        "arr = np.array([1, 2, 3, 4])\n",
        "sub_arr = arr[1:3]  # 부분 배열 (view)\n",
        "\n",
        "sub_arr[0] = 99  # 부분 배열 수정\n",
        "# print(arr)  # 원본 배열도 변경됨!\n",
        "\n",
        "\n",
        "sub_arr_cpy = arr[1:3].copy()\n",
        "sub_arr_cpy[0] = 10000\n",
        "# print(arr)\n",
        "# print(sub_arr_cpy)"
      ],
      "metadata": {
        "colab": {
          "base_uri": "https://localhost:8080/"
        },
        "id": "AFeohbeOTieo",
        "outputId": "95408914-833a-4c03-aa64-6e6617c0dbc7"
      },
      "execution_count": 58,
      "outputs": [
        {
          "output_type": "stream",
          "name": "stdout",
          "text": [
            "[0 1 2 3]\n"
          ]
        }
      ]
    },
    {
      "cell_type": "code",
      "source": [
        "arr2d = np.array([\n",
        "    [0,1,2,3],\n",
        "    [4,5,6,7],\n",
        "    [8,9,10,11]\n",
        "])\n",
        "\n",
        "# 전치 행렬\n",
        "# print(arr2d.T)\n",
        "\n",
        "# 항등행렬 np.eye\n",
        "# eye는 눈이 아니라 identity matrix에서 유래됨\n",
        "# identity: 자기 자신읠 유지하는 행렬 -> 곱해도 원래 행렬 유지함\n",
        "\n",
        "import numpy as np\n",
        "I = np.eye(3)\n",
        "# print(I)\n",
        "\n",
        "# reshape\n",
        "arr = np.array([1, 2, 3, 4, 5, 6, 7, 8, 9])\n",
        "reshape_arr = arr.reshape(3, 3) # 숫자 안맞으면 에러남\n",
        "print(reshape_arr)"
      ],
      "metadata": {
        "colab": {
          "base_uri": "https://localhost:8080/"
        },
        "id": "1WrUhoYSYAVa",
        "outputId": "b7e3a862-daba-451d-c467-a51cffc2b5e1"
      },
      "execution_count": 32,
      "outputs": [
        {
          "output_type": "stream",
          "name": "stdout",
          "text": [
            "[[1. 0. 0.]\n",
            " [0. 1. 0.]\n",
            " [0. 0. 1.]]\n",
            "[[1 2 3]\n",
            " [4 5 6]\n",
            " [7 8 9]]\n"
          ]
        }
      ]
    },
    {
      "cell_type": "code",
      "source": [
        "import numpy as np\n",
        "\n",
        "A = np.array([[1, 2, 3],\n",
        "              [4, 5, 6]])\n",
        "\n",
        "B = np.array([[7, 8],\n",
        "              [9, 10],\n",
        "              [11, 12]])\n",
        "\n",
        "# 행렬에서 dot을 사용하면 한 행렬의 행 벡터와 다른 행렬의 열 벡터를 내적하여 새로운 행렬을 만들어요.\n",
        "C = np.dot(A, B)\n",
        "print(C)"
      ],
      "metadata": {
        "colab": {
          "base_uri": "https://localhost:8080/"
        },
        "id": "P4Td6g7td_Cu",
        "outputId": "91d9d71d-8a61-456a-fdd0-86a1f30bced0"
      },
      "execution_count": 33,
      "outputs": [
        {
          "output_type": "stream",
          "name": "stdout",
          "text": [
            "[[ 58  64]\n",
            " [139 154]]\n"
          ]
        }
      ]
    },
    {
      "cell_type": "code",
      "source": [
        "import numpy as np\n",
        "\n",
        "random_matrix = np.random.rand(3,3)\n",
        "print(random_matrix)"
      ],
      "metadata": {
        "colab": {
          "base_uri": "https://localhost:8080/"
        },
        "id": "Sh6MYkAPeh9N",
        "outputId": "217e2178-9464-4e73-8c79-ab8199b40f81"
      },
      "execution_count": 36,
      "outputs": [
        {
          "output_type": "stream",
          "name": "stdout",
          "text": [
            "[[0.10650687 0.29113099 0.24081898]\n",
            " [0.92887367 0.77798983 0.34335864]\n",
            " [0.51991904 0.65221689 0.80990186]]\n"
          ]
        }
      ]
    },
    {
      "cell_type": "code",
      "source": [
        "# 평균, 표준편차(Standard Deviation, σ)\n",
        "\n",
        "import numpy as np\n",
        "\n",
        "scores = [60, 70, 80, 90, 100]  # 점수 리스트\n",
        "mean = np.mean(scores)\n",
        "# print(\"mean: \", mean)\n",
        "\n",
        "std = np.std(scores)\n",
        "# print(\"std: \", std)\n",
        "\n",
        "# ✅ 평균이 0, 표준편차가 1인 경우를 “표준 정규분포(Standard Normal Distribution)“라고 해요.\n",
        "# ✅ 데이터가 0을 중심으로, ±1 범위 안에 68%가 있음\n",
        "\n",
        "standardized = (scores - mean) / std\n",
        "print(standardized)\n"
      ],
      "metadata": {
        "colab": {
          "base_uri": "https://localhost:8080/"
        },
        "id": "slOY6s5Fn1Nd",
        "outputId": "34d0dc10-a662-447f-9a7b-474dc679c050"
      },
      "execution_count": 43,
      "outputs": [
        {
          "output_type": "stream",
          "name": "stdout",
          "text": [
            "[-1.41421356 -0.70710678  0.          0.70710678  1.41421356]\n"
          ]
        }
      ]
    },
    {
      "cell_type": "code",
      "source": [
        "# 배열 기초 튜토리얼 (shape, dtype, size, ndim)\n",
        "\n",
        "# 넘파이는 배열에 저장된 모든 요소가 같은 데이터 타입으로 맞춤\n",
        "# 기본적으로 int32, float64같은 데이터 타입 씀\n",
        "# dtype: check data type\n",
        "\n",
        "arr2 = np.array([1, 2, 3, 4, 3.5])\n",
        "# print(arr2.shape)\n",
        "# print(arr2.dtype) # float64\n",
        "# ✅ 모든 요소가 동일한 자료형이 되도록 자동 변환됨! (정수 1, 2, 3 → 실수 1.0, 2.0, 3.0)\n",
        "\n",
        "# .size: returns the number of elements in array\n",
        "arr4 = np.array([\n",
        "      [1, 2, 3],\n",
        "      [4, 5, 6],\n",
        "    ])\n",
        "\n",
        "# print(arr4.size) # 2 * 3 = 6\n",
        "\n",
        "# .ndim: dimention of the array\n",
        "arr5 = np.array([1, 2, 3])  # 1차원 배열\n",
        "arr6 = np.array([[1, 2, 3], [4, 5, 6]])  # 2차원 배열\n",
        "arr7 = np.array([[[1, 2], [3, 4]], [[5, 6], [7, 8]]])  # 3차원 배열\n",
        "\n",
        "# print(arr5.ndim)\n",
        "# print(arr6.ndim)\n",
        "# print(arr7.ndim)\n",
        "\n",
        ""
      ],
      "metadata": {
        "colab": {
          "base_uri": "https://localhost:8080/"
        },
        "id": "VlsvjrrDpJkh",
        "outputId": "85dab809-09a9-46ee-d90c-c8ed59cc4e5e"
      },
      "execution_count": 51,
      "outputs": [
        {
          "output_type": "stream",
          "name": "stdout",
          "text": [
            "(5,)\n"
          ]
        }
      ]
    }
  ]
}
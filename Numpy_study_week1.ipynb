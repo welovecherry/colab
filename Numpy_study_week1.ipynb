{
  "nbformat": 4,
  "nbformat_minor": 0,
  "metadata": {
    "colab": {
      "provenance": [],
      "authorship_tag": "ABX9TyNfKgO3IHRE2pdhNxSBYOPH",
      "include_colab_link": true
    },
    "kernelspec": {
      "name": "python3",
      "display_name": "Python 3"
    },
    "language_info": {
      "name": "python"
    }
  },
  "cells": [
    {
      "cell_type": "markdown",
      "metadata": {
        "id": "view-in-github",
        "colab_type": "text"
      },
      "source": [
        "<a href=\"https://colab.research.google.com/github/welovecherry/colab/blob/main/Numpy_study_week1.ipynb\" target=\"_parent\"><img src=\"https://colab.research.google.com/assets/colab-badge.svg\" alt=\"Open In Colab\"/></a>"
      ]
    },
    {
      "cell_type": "code",
      "execution_count": 53,
      "metadata": {
        "id": "0eLNnu-iAOCR",
        "colab": {
          "base_uri": "https://localhost:8080/"
        },
        "outputId": "7872415f-2a50-4c74-fdd5-3a219aa192ed"
      },
      "outputs": [
        {
          "output_type": "stream",
          "name": "stdout",
          "text": [
            "[[100 200 300]\n",
            " [400 500 600]\n",
            " [700 800 900]]\n",
            "[[1 4 7]\n",
            " [2 5 8]\n",
            " [3 6 9]]\n",
            "[[1 2 3]\n",
            " [4 5 6]\n",
            " [7 8 9]]\n"
          ]
        }
      ],
      "source": [
        "# 넘파이는 한줄로 모든 요소에 10 더하기 가능\n",
        "\n",
        "import numpy as np\n",
        "\n",
        "arr = np.array([1, 2, 3, 4, 5])\n",
        "arr_added = arr + 10\n",
        "# print(arr_added)\n",
        "\n",
        "\n",
        "# 넘파이는 자동 메모리 관리해줌.\n",
        "# 씨언어는 2차원배열 만들 때 [3][3]처럼 크기를 명확히 해야하지만\n",
        "# 넘파이는 이런걸 쓸 필요 없다.\n",
        "\n",
        "matrix = np.array( [\n",
        "    [1, 2, 3],\n",
        "    [4, 5, 6],\n",
        "    [7, 8, 9]\n",
        "])\n",
        "\n",
        "print(matrix * 100)\n",
        "print(matrix.T)\n",
        "print(matrix) # original\n",
        "\n",
        "# 넘파이: average, std(표준편차), sum 바로 사용가능\n",
        "# print(np.mean(arr))\n",
        "# print(np.std(arr))\n",
        "# print(np.sum(arr))\n"
      ]
    },
    {
      "cell_type": "code",
      "source": [],
      "metadata": {
        "id": "_Ecy4RikThK_"
      },
      "execution_count": null,
      "outputs": []
    },
    {
      "cell_type": "code",
      "source": [
        "# 차원을 표현할 때 [] 를 쓴다. 만일 2차원 배열을 만들면 []를 2번 씀\n",
        "# 2차원 배열 (행렬)\n",
        "matrix = np.array([\n",
        "    [1, 2, 3],    # 첫 번째 행\n",
        "    [4, 5, 6],    # 두 번째 행\n",
        "    [7, 8, 9]     # 세 번째 행\n",
        "])\n",
        "# 각 []는 차원을 나타냄\n",
        "# 1번 []는 전체 행렬\n",
        "# 2번 []는 각 행\n",
        "\n",
        "# 3차원 배열 (텐서)\n",
        "tensor = np.array([\n",
        "    [[1, 2], [3, 4]],    # 첫 번째 2D 배열\n",
        "    [[5, 6], [7, 8]]     # 두 번째 2D 배열\n",
        "])\n",
        "# 1번 []는 전체 텐서\n",
        "# 2번 []는 각 2D 배열\n",
        "# 3번 []는 각 2D 배열 내 행"
      ],
      "metadata": {
        "id": "n3pmKwqMSMLC"
      },
      "execution_count": null,
      "outputs": []
    },
    {
      "cell_type": "code",
      "source": [
        "matrix = np.array( [\n",
        "    [1, 2, 3],\n",
        "    [4, 5, 6],\n",
        "    [7, 8, 9]\n",
        "])\n",
        "\n",
        "# print(matrix[1, 2]) # 1행 2열 (idex starts from 0)\n",
        "\n",
        "# 넘파이는 슬라이싱 사용 가능 (슬라이싱이 복사가 아니라 참조되므로 원본 배열이 변경될 수 있다.)\n",
        "# print(matrix[:2])\n",
        "\n",
        "\n",
        "arr = np.array([0, 1, 2, 3, 4, 5, 6, 7, 8, 9])\n",
        "# print(arr[2:5])\n",
        "# print(arr[:4])\n",
        "# print(arr[5:])\n",
        "# print(arr[:])\n",
        "\n",
        "# print(arr[1:8:2])  # 인덱스 1부터 7까지 2칸씩 건너뛰기\n",
        "# print(arr[::-1])   # 배열을 거꾸로 뒤집기\n",
        "# print(arr[::3])    # 처음부터 끝까지 3칸씩 건너뛰기\n",
        "\n",
        "# 2차원 배열에서도 넘파이 슬라이싱 사용 가능\n",
        "arr2d = np.array([\n",
        "    [0,1,2,3],\n",
        "    [4,5,6,7],\n",
        "    [8,9,10,11]\n",
        "])\n",
        "\n",
        "# 넘파이는 조건을 활용한 슬라이싱(필터링) 가능\n",
        "# print(arr[arr > 4])\n",
        "\n",
        "\n",
        "# (슬라이싱이 복사가 아니라 참조되므로 원본 배열이 변경될 수 있다.)\n",
        "arr = np.array([1, 2, 3, 4])\n",
        "sub_arr = arr[1:3]  # 부분 배열 (view)\n",
        "\n",
        "sub_arr[0] = 99  # 부분 배열 수정\n",
        "# print(arr)  # 원본 배열도 변경됨!\n",
        "\n",
        "\n",
        "sub_arr_cpy = arr[1:3].copy()\n",
        "sub_arr_cpy[0] = 10000\n",
        "# print(arr)\n",
        "# print(sub_arr_cpy)"
      ],
      "metadata": {
        "colab": {
          "base_uri": "https://localhost:8080/"
        },
        "id": "AFeohbeOTieo",
        "outputId": "c2d3f803-55f4-49dd-8707-efddcae5bd7f"
      },
      "execution_count": 59,
      "outputs": [
        {
          "output_type": "stream",
          "name": "stdout",
          "text": [
            "[0 1 2 3 4 5 6 7 8 9]\n"
          ]
        }
      ]
    },
    {
      "cell_type": "code",
      "source": [
        "arr2d = np.array([\n",
        "    [0,1,2,3],\n",
        "    [4,5,6,7],\n",
        "    [8,9,10,11]\n",
        "])\n",
        "\n",
        "# 전치 행렬\n",
        "# print(arr2d.T)\n",
        "\n",
        "# 항등행렬 np.eye\n",
        "# eye는 눈이 아니라 identity matrix에서 유래됨\n",
        "# identity: 자기 자신읠 유지하는 행렬 -> 곱해도 원래 행렬 유지함\n",
        "\n",
        "import numpy as np\n",
        "I = np.eye(10)\n",
        "print(I)\n",
        "\n",
        "# reshape\n",
        "arr = np.array([1, 2, 3, 4, 5, 6, 7, 8, 9])\n",
        "reshape_arr = arr.reshape(3, 3) # 숫자 안맞으면 에러남\n",
        "print(reshape_arr)"
      ],
      "metadata": {
        "colab": {
          "base_uri": "https://localhost:8080/"
        },
        "id": "1WrUhoYSYAVa",
        "outputId": "83e7ee1c-1fd5-44fb-fc97-2814674e50dc"
      },
      "execution_count": 61,
      "outputs": [
        {
          "output_type": "stream",
          "name": "stdout",
          "text": [
            "[[1. 0. 0. 0. 0. 0. 0. 0. 0. 0.]\n",
            " [0. 1. 0. 0. 0. 0. 0. 0. 0. 0.]\n",
            " [0. 0. 1. 0. 0. 0. 0. 0. 0. 0.]\n",
            " [0. 0. 0. 1. 0. 0. 0. 0. 0. 0.]\n",
            " [0. 0. 0. 0. 1. 0. 0. 0. 0. 0.]\n",
            " [0. 0. 0. 0. 0. 1. 0. 0. 0. 0.]\n",
            " [0. 0. 0. 0. 0. 0. 1. 0. 0. 0.]\n",
            " [0. 0. 0. 0. 0. 0. 0. 1. 0. 0.]\n",
            " [0. 0. 0. 0. 0. 0. 0. 0. 1. 0.]\n",
            " [0. 0. 0. 0. 0. 0. 0. 0. 0. 1.]]\n",
            "[[1 2 3]\n",
            " [4 5 6]\n",
            " [7 8 9]]\n"
          ]
        }
      ]
    },
    {
      "cell_type": "code",
      "source": [
        "import numpy as np\n",
        "\n",
        "A = np.array([[1, 2, 3],\n",
        "              [4, 5, 6]])\n",
        "\n",
        "B = np.array([[7, 8],\n",
        "              [9, 10],\n",
        "              [11, 12]])\n",
        "\n",
        "# 행렬에서 dot을 사용하면 한 행렬의 행 벡터와 다른 행렬의 열 벡터를 내적하여 새로운 행렬을 만들어요.\n",
        "C = np.dot(A, B)\n",
        "print(C)"
      ],
      "metadata": {
        "colab": {
          "base_uri": "https://localhost:8080/"
        },
        "id": "P4Td6g7td_Cu",
        "outputId": "91d9d71d-8a61-456a-fdd0-86a1f30bced0"
      },
      "execution_count": 33,
      "outputs": [
        {
          "output_type": "stream",
          "name": "stdout",
          "text": [
            "[[ 58  64]\n",
            " [139 154]]\n"
          ]
        }
      ]
    },
    {
      "cell_type": "code",
      "source": [
        "import numpy as np\n",
        "\n",
        "random_matrix = np.random.rand(3,3)\n",
        "print(random_matrix)"
      ],
      "metadata": {
        "colab": {
          "base_uri": "https://localhost:8080/"
        },
        "id": "Sh6MYkAPeh9N",
        "outputId": "217e2178-9464-4e73-8c79-ab8199b40f81"
      },
      "execution_count": 36,
      "outputs": [
        {
          "output_type": "stream",
          "name": "stdout",
          "text": [
            "[[0.10650687 0.29113099 0.24081898]\n",
            " [0.92887367 0.77798983 0.34335864]\n",
            " [0.51991904 0.65221689 0.80990186]]\n"
          ]
        }
      ]
    },
    {
      "cell_type": "code",
      "source": [
        "# 평균, 표준편차(Standard Deviation, σ)\n",
        "\n",
        "import numpy as np\n",
        "\n",
        "scores = [60, 70, 80, 90, 100]  # 점수 리스트\n",
        "mean = np.mean(scores)\n",
        "# print(\"mean: \", mean)\n",
        "\n",
        "std = np.std(scores)\n",
        "# print(\"std: \", std)\n",
        "\n",
        "# ✅ 평균이 0, 표준편차가 1인 경우를 “표준 정규분포(Standard Normal Distribution)“라고 해요.\n",
        "# ✅ 데이터가 0을 중심으로, ±1 범위 안에 68%가 있음\n",
        "\n",
        "standardized = (scores - mean) / std\n",
        "print(standardized)\n"
      ],
      "metadata": {
        "colab": {
          "base_uri": "https://localhost:8080/"
        },
        "id": "slOY6s5Fn1Nd",
        "outputId": "f70149af-a2a6-4ac8-edd5-a22562d049a5"
      },
      "execution_count": 62,
      "outputs": [
        {
          "output_type": "stream",
          "name": "stdout",
          "text": [
            "[-1.41421356 -0.70710678  0.          0.70710678  1.41421356]\n"
          ]
        }
      ]
    },
    {
      "cell_type": "code",
      "source": [
        "import numpy as np\n",
        "# 배열 기초 튜토리얼 (shape, dtype, size, ndim)\n",
        "\n",
        "# 넘파이는 배열에 저장된 모든 요소가 같은 데이터 타입으로 맞춤\n",
        "# 기본적으로 int32, float64같은 데이터 타입 씀\n",
        "# dtype: check data type\n",
        "\n",
        "arr2 = np.array([1, 2, 3, 4, 3.5 , 9])\n",
        "# print(arr2.shape)\n",
        "# print(arr2.dtype) # float64\n",
        "# ✅ 모든 요소가 동일한 자료형이 되도록 자동 변환됨! (정수 1, 2, 3 → 실수 1.0, 2.0, 3.0)\n",
        "\n",
        "# .size: returns the number of elements in array\n",
        "arr4 = np.array([\n",
        "      [1, 2, 3],\n",
        "      [4, 5, 6],\n",
        "    ])\n",
        "# print(arr4.shape)\n",
        "print(arr4.size) # 2 * 3 = 6\n",
        "\n",
        "# .ndim: dimention of the array\n",
        "arr5 = np.array([1, 2, 3])  # 1차원 배열\n",
        "arr6 = np.array([[1, 2, 3], [4, 5, 6]])  # 2차원 배열\n",
        "arr7 = np.array([[[1, 2], [3, 4]], [[5, 6], [7, 8]]])  # 3차원 배열\n",
        "\n",
        "print(arr5.ndim)\n",
        "print(arr6.ndim)\n",
        "print(arr7.ndim)\n",
        "\n",
        ""
      ],
      "metadata": {
        "colab": {
          "base_uri": "https://localhost:8080/"
        },
        "id": "VlsvjrrDpJkh",
        "outputId": "d3daa8da-5eb3-4e9a-e0f8-bb2bd2253692"
      },
      "execution_count": 8,
      "outputs": [
        {
          "output_type": "stream",
          "name": "stdout",
          "text": [
            "6\n",
            "1\n",
            "2\n",
            "3\n"
          ]
        }
      ]
    },
    {
      "cell_type": "code",
      "source": [
        "import numpy as np\n",
        "\n",
        "arr1 = np.zeros(5)\n",
        "# print(arr1)\n",
        "\n",
        "arr2 = np.zeros((2, 3))\n",
        "# print(arr2)\n",
        "\n",
        "arr3 = np.zeros((3, 3), dtype=np.int32)\n",
        "# print(arr3)\n",
        "\n",
        "arr4 = np.ones(3)\n",
        "# print(arr4)\n",
        "\n",
        "arr5 = np.ones((3, 2))\n",
        "print(arr5)"
      ],
      "metadata": {
        "colab": {
          "base_uri": "https://localhost:8080/"
        },
        "id": "2jQ4NA7NjVQE",
        "outputId": "adaddc87-9e6f-43fd-d0b8-17d86adde46f"
      },
      "execution_count": 18,
      "outputs": [
        {
          "output_type": "stream",
          "name": "stdout",
          "text": [
            "[[1. 1.]\n",
            " [1. 1.]\n",
            " [1. 1.]]\n"
          ]
        }
      ]
    },
    {
      "cell_type": "code",
      "source": [
        "'''\n",
        "🔹 3. np.arange(): 범위 기반 배열 생성\n",
        "\n",
        "✅ 연속된 숫자로 배열을 만들 때 사용\n",
        "✅ Python의 range() 함수와 비슷하지만 배열을 반환\n",
        "✅ start, stop, step 값을 지정 가능\n",
        "'''\n",
        "import numpy as np\n",
        "\n",
        "arr1 = np.arange(10)\n",
        "# print(arr1)\n",
        "\n",
        "arr2 = np.arange(1, 10, 2) # before second element\n",
        "# print(arr2)\n",
        "\n",
        "arr3 = np.arange(5, 0, -1)\n",
        "# print(arr3)\n",
        "\n",
        "\n",
        "'''🔹 4. np.linspace(): “Linearly Spaced Numbers”**의 약자예요.\n",
        "특정 구간을 일정한 간격으로 나눈 배열 생성\n",
        "\n",
        "✅ 시작값과 끝값을 포함하여 일정한 간격으로 배열을 생성\n",
        "✅ arange()와 다르게, 몇 개의 숫자를 만들지 직접 지정 가능\n",
        "✅ num 파라미터로 요소 개수 설정 가능\n",
        "'''\n",
        "\n",
        "arr4 = np.linspace(0, 10, 5) # 0부터 10(포함)까지 5개로 나눔\n",
        "# print(arr4)\n",
        "arr5 = np.linspace(1, 5, 4) # 1부터 5까지(포함)해서 4개로 나눔\n",
        "# print(arr5)\n",
        "\n",
        "arr6 = np.linspace(0, 1, 6, endpoint=False) # 0부터 1까지 6개로 나누는데, 1은 포함 안함\n",
        "# print(arr6)\n",
        "\n",
        "# print(list(range(0, 5, 1)))\n",
        "# print(list(range(0, 5, 0.1))) # error in python\n",
        "arr7 = np.arange(1, 5, 0.5)\n",
        "# print(arr7)\n",
        "\n",
        "''' arange()를 언제 사용할까?\n",
        "\n",
        "✅ 정수 범위 만들기 → range()와 유사하게 사용 가능\n",
        "✅ 소수 간격으로 숫자 만들기\n",
        "✅ NumPy 배열이 필요할 때 (ndarray로 생성됨)'''\n",
        "\n",
        "\n"
      ],
      "metadata": {
        "colab": {
          "base_uri": "https://localhost:8080/"
        },
        "id": "7f9bDvzqd6XH",
        "outputId": "46af898f-c7a6-445e-80c2-36adaca64dcb"
      },
      "execution_count": 11,
      "outputs": [
        {
          "output_type": "stream",
          "name": "stdout",
          "text": [
            "[1 3 5 7 9]\n",
            "[1.  1.5 2.  2.5 3.  3.5 4.  4.5]\n"
          ]
        }
      ]
    },
    {
      "cell_type": "code",
      "source": [
        "import numpy as np\n",
        "\n",
        "arr = np.array([1, 2, 3, 4, 5])\n",
        "\n",
        "# print(arr + 10)\n",
        "# print(arr * 2)\n",
        "# print(arr / 2) # result will be floating number\n",
        "# print(arr ** 2) # square\n",
        "\n",
        "\n",
        "''' 2. 배열 간 연산 (덧셈, 뺄셈, 곱셈, 나눗셈)\n",
        "\n",
        "✅ 동일한 크기의 배열끼리는 요소별(Element-wise) 연산이 가능\n",
        "✅ **+, -, *, /, //, %, ** 연산 모두 지원\n",
        "'''\n",
        "\n",
        "arr1 = np.array([1, 2, 3])\n",
        "arr2 = np.array([4, 5, 6])\n",
        "\n",
        "# print(arr1 + arr2)\n",
        "print(arr1 / arr2)\n",
        "print(arr1 // arr2) # 몫 연산\n",
        "print(arr2 % arr1) # modulo\n",
        "\n",
        "\n",
        "print(5%2)"
      ],
      "metadata": {
        "colab": {
          "base_uri": "https://localhost:8080/"
        },
        "id": "XzWKMIBnnAPX",
        "outputId": "99f12895-9cef-4ee2-b4a7-f9bc0e1f25ea"
      },
      "execution_count": 21,
      "outputs": [
        {
          "output_type": "stream",
          "name": "stdout",
          "text": [
            "[0.25 0.4  0.5 ]\n",
            "[0 0 0]\n",
            "[0 1 0]\n",
            "1\n"
          ]
        }
      ]
    },
    {
      "cell_type": "code",
      "source": [
        "'''\n",
        "🔹 3. 브로드캐스팅(Broadcasting) 개념\n",
        "\n",
        "✅ 크기가 다른 배열끼리 연산할 때 자동으로 크기를 맞춰 연산하는 기능\n",
        "✅ Python 리스트는 지원하지 않지만, NumPy에서는 자동 적용!\n",
        "'''\n",
        "\n",
        "''' ✅ (1) 배열과 스칼라 연산 → 자동 적용\n",
        "\n",
        "배열과 숫자를 연산할 때, 숫자가 자동으로 모든 요소에 적용됨'''\n",
        "arr1 = np.array([[1, 2, 3],\n",
        "                [4, 5, 6]])\n",
        "\n",
        "# print(arr + 10)\n",
        "\n",
        "\n",
        "''' ✅ (2) 1차원 vs 2차원 배열 연산\n",
        "\n",
        "배열의 크기가 다르면, 자동으로 맞춰서 연산\n",
        ": ✅ 1D 배열이 자동으로 2D 배열 크기로 맞춰짐! '''\n",
        "\n",
        "arr1 = np.array([[1, 2, 3],\n",
        "                [4, 5, 6]])\n",
        "arr2 = np.array([10, 20, 30])\n",
        "print(arr1 + arr2)\n",
        "\n",
        "''' ✅ (3) 브로드캐스팅이 불가능한 경우\n",
        "\n",
        "아래처럼 행 개수나 열 개수가 다르면 연산 불가능'''\n",
        "arr3 = np.array([10, 20])\n",
        "# print(arr1 + arr3) # results error: ValueError: operands could not be broadcast together with shapes (2,3) (2,)\n"
      ],
      "metadata": {
        "colab": {
          "base_uri": "https://localhost:8080/",
          "height": 216
        },
        "id": "SmQtMrVlo9Tr",
        "outputId": "a1c4c45d-bbe0-4d82-b732-9af7bd8c913f"
      },
      "execution_count": 25,
      "outputs": [
        {
          "output_type": "stream",
          "name": "stdout",
          "text": [
            "[[11 22 33]\n",
            " [14 25 36]]\n"
          ]
        },
        {
          "output_type": "error",
          "ename": "ValueError",
          "evalue": "operands could not be broadcast together with shapes (2,3) (2,) ",
          "traceback": [
            "\u001b[0;31m---------------------------------------------------------------------------\u001b[0m",
            "\u001b[0;31mValueError\u001b[0m                                Traceback (most recent call last)",
            "\u001b[0;32m<ipython-input-25-a593884a296e>\u001b[0m in \u001b[0;36m<cell line: 0>\u001b[0;34m()\u001b[0m\n\u001b[1;32m     29\u001b[0m 아래처럼 행 개수나 열 개수가 다르면 연산 불가능'''\n\u001b[1;32m     30\u001b[0m \u001b[0marr3\u001b[0m \u001b[0;34m=\u001b[0m \u001b[0mnp\u001b[0m\u001b[0;34m.\u001b[0m\u001b[0marray\u001b[0m\u001b[0;34m(\u001b[0m\u001b[0;34m[\u001b[0m\u001b[0;36m10\u001b[0m\u001b[0;34m,\u001b[0m \u001b[0;36m20\u001b[0m\u001b[0;34m]\u001b[0m\u001b[0;34m)\u001b[0m\u001b[0;34m\u001b[0m\u001b[0;34m\u001b[0m\u001b[0m\n\u001b[0;32m---> 31\u001b[0;31m \u001b[0mprint\u001b[0m\u001b[0;34m(\u001b[0m\u001b[0marr1\u001b[0m \u001b[0;34m+\u001b[0m \u001b[0marr3\u001b[0m\u001b[0;34m)\u001b[0m \u001b[0;31m# results error\u001b[0m\u001b[0;34m\u001b[0m\u001b[0;34m\u001b[0m\u001b[0m\n\u001b[0m",
            "\u001b[0;31mValueError\u001b[0m: operands could not be broadcast together with shapes (2,3) (2,) "
          ]
        }
      ]
    },
    {
      "cell_type": "code",
      "source": [
        "'''✅ (1) 배열 형태 변형 reshape()\n",
        "\n",
        "✅ 배열의 차원과 모양을 변경할 때 사용\n",
        "✅ 요소 개수는 변경 전과 후가 동일해야 함\n",
        "✅ 차원을 변경해도 데이터는 그대로 유지됨!\n",
        "\n",
        "📌 자동 크기 조정 (-1 사용)\n",
        "'''\n",
        "import numpy as np\n",
        "\n",
        "arr = np.arange(12)\n",
        "# reshaped = arr.reshape(3, 4)\n",
        "# print(reshaped)\n",
        "\n",
        "reshaped = arr.reshape(3, -1)\n",
        "# arr.reshape(-1, 4)\n",
        "print(reshaped)"
      ],
      "metadata": {
        "colab": {
          "base_uri": "https://localhost:8080/"
        },
        "id": "ynDJs-OPqCgY",
        "outputId": "4c095218-771a-4f31-a7c6-fd10054e5415"
      },
      "execution_count": 33,
      "outputs": [
        {
          "output_type": "stream",
          "name": "stdout",
          "text": [
            "[[ 0  1  2  3]\n",
            " [ 4  5  6  7]\n",
            " [ 8  9 10 11]]\n"
          ]
        }
      ]
    }
  ]
}